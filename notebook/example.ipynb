{
 "cells": [
  {
   "cell_type": "code",
   "execution_count": 1,
   "metadata": {},
   "outputs": [
    {
     "data": {
      "text/html": [
       "<script>\n",
       "// Immediately-invoked-function-expression to avoid global variables.\n",
       "(function() {\n",
       "    var warning_div = document.getElementById(\"webio-warning-1964716882094754645\");\n",
       "    var hide = function () {\n",
       "        var script = document.getElementById(\"webio-setup-13378136419041256361\");\n",
       "        var parent = script && script.parentElement;\n",
       "        var grandparent = parent && parent.parentElement;\n",
       "        if (grandparent) {\n",
       "            grandparent.style.display = \"none\";\n",
       "        }\n",
       "        warning_div.style.display = \"none\";\n",
       "    };\n",
       "    if (typeof Jupyter !== \"undefined\") {\n",
       "        console.log(\"WebIO detected Jupyter notebook environment.\");\n",
       "        // Jupyter notebook.\n",
       "        var extensions = (\n",
       "            Jupyter\n",
       "            && Jupyter.notebook.config.data\n",
       "            && Jupyter.notebook.config.data.load_extensions\n",
       "        );\n",
       "        if (extensions && extensions[\"webio-jupyter-notebook\"]) {\n",
       "            // Extension already loaded.\n",
       "            console.log(\"Jupyter WebIO nbextension detected; not loading ad-hoc.\");\n",
       "            hide();\n",
       "            return;\n",
       "        }\n",
       "    } else if (window.location.pathname.includes(\"/lab\")) {\n",
       "        // Guessing JupyterLa\n",
       "        console.log(\"Jupyter Lab detected; make sure the @webio/jupyter-lab-provider labextension is installed.\");\n",
       "        hide();\n",
       "        return;\n",
       "    }\n",
       "})();\n",
       "\n",
       "</script>\n",
       "<p\n",
       "    id=\"webio-warning-1964716882094754645\"\n",
       "    class=\"output_text output_stderr\"\n",
       "    style=\"padding: 1em; font-weight: bold;\"\n",
       ">\n",
       "    Unable to load WebIO. Please make sure WebIO works for your Jupyter client.\n",
       "    For troubleshooting, please see <a href=\"https://juliagizmos.github.io/WebIO.jl/latest/providers/ijulia/\">\n",
       "    the WebIO/IJulia documentation</a>.\n",
       "    <!-- TODO: link to installation docs. -->\n",
       "</p>\n"
      ],
      "text/plain": [
       "HTML{String}(\"<script>\\n// Immediately-invoked-function-expression to avoid global variables.\\n(function() {\\n    var warning_div = document.getElementById(\\\"webio-warning-1964716882094754645\\\");\\n    var hide = function () {\\n        var script = document.getElementById(\\\"webio-setup-13378136419041256361\\\");\\n        var parent = script && script.parentElement;\\n        var grandparent = parent && parent.parentElement;\\n        if (grandparent) {\\n            grandparent.style.display = \\\"none\\\";\\n        }\\n        warning_div.style.display = \\\"none\\\";\\n    };\\n    if (typeof Jupyter !== \\\"undefined\\\") {\\n        console.log(\\\"WebIO detected Jupyter notebook environment.\\\");\\n        // Jupyter notebook.\\n        var extensions = (\\n            Jupyter\\n            && Jupyter.notebook.config.data\\n            && Jupyter.notebook.config.data.load_extensions\\n        );\\n        if (extensions && extensions[\\\"webio-jupyter-notebook\\\"]) {\\n            // Extension already loaded.\\n            console.log(\\\"Jupyter WebIO nbextension detected; not loading ad-hoc.\\\");\\n            hide();\\n            return;\\n        }\\n    } else if (window.location.pathname.includes(\\\"/lab\\\")) {\\n        // Guessing JupyterLa\\n        console.log(\\\"Jupyter Lab detected; make sure the @webio/jupyter-lab-provider labextension is installed.\\\");\\n        hide();\\n        return;\\n    }\\n})();\\n\\n</script>\\n<p\\n    id=\\\"webio-warning-1964716882094754645\\\"\\n    class=\\\"output_text output_stderr\\\"\\n    style=\\\"padding: 1em; font-weight: bold;\\\"\\n>\\n    Unable to load WebIO. Please make sure WebIO works for your Jupyter client.\\n    For troubleshooting, please see <a href=\\\"https://juliagizmos.github.io/WebIO.jl/latest/providers/ijulia/\\\">\\n    the WebIO/IJulia documentation</a>.\\n    <!-- TODO: link to installation docs. -->\\n</p>\\n\")"
      ]
     },
     "metadata": {},
     "output_type": "display_data"
    },
    {
     "name": "stderr",
     "output_type": "stream",
     "text": [
      "┌ Info: Precompiling Plot [9db1e993-d40e-4a2c-9c84-e29bd56acb85]\n",
      "└ @ Base loading.jl:1278\n",
      "ERROR: LoadError: LoadError: UndefVarError: merge_recursively not defined\n",
      "Stacktrace:\n",
      " [1] include(::Function, ::Module, ::String) at ./Base.jl:380\n",
      " [2] include at ./Base.jl:368 [inlined]\n",
      " [3] include(::String) at /Users/kwat/code/Plot.jl/src/Plot.jl:1\n",
      " [4] top-level scope at /Users/kwat/code/Plot.jl/src/Plot.jl:4\n",
      " [5] include(::Function, ::Module, ::String) at ./Base.jl:380\n",
      " [6] include(::Module, ::String) at ./Base.jl:368\n",
      " [7] top-level scope at none:2\n",
      " [8] eval at ./boot.jl:331 [inlined]\n",
      " [9] eval(::Expr) at ./client.jl:467\n",
      " [10] top-level scope at ./none:3\n",
      "in expression starting at /Users/kwat/code/Plot.jl/src/extend_layout.jl:3\n",
      "in expression starting at /Users/kwat/code/Plot.jl/src/Plot.jl:4\n"
     ]
    },
    {
     "ename": "LoadError",
     "evalue": "Failed to precompile Plot [9db1e993-d40e-4a2c-9c84-e29bd56acb85] to /Users/kwat/.julia/compiled/v1.5/Plot/lRxj0_FasrZ.ji.",
     "output_type": "error",
     "traceback": [
      "Failed to precompile Plot [9db1e993-d40e-4a2c-9c84-e29bd56acb85] to /Users/kwat/.julia/compiled/v1.5/Plot/lRxj0_FasrZ.ji.",
      "",
      "Stacktrace:",
      " [1] error(::String) at ./error.jl:33",
      " [2] compilecache(::Base.PkgId, ::String) at ./loading.jl:1305",
      " [3] _require(::Base.PkgId) at ./loading.jl:1030",
      " [4] require(::Base.PkgId) at ./loading.jl:928",
      " [5] require(::Module, ::Symbol) at ./loading.jl:923",
      " [6] include_string(::Function, ::Module, ::String, ::String) at ./loading.jl:1091"
     ]
    }
   ],
   "source": [
    "using Plotly\n",
    "\n",
    "using Plot"
   ]
  },
  {
   "cell_type": "markdown",
   "metadata": {},
   "source": [
    "## Use style for Jupyter"
   ]
  },
  {
   "cell_type": "code",
   "execution_count": null,
   "metadata": {},
   "outputs": [],
   "source": [
    "plot()"
   ]
  },
  {
   "cell_type": "code",
   "execution_count": null,
   "metadata": {},
   "outputs": [],
   "source": [
    "use_style!()"
   ]
  },
  {
   "cell_type": "code",
   "execution_count": null,
   "metadata": {},
   "outputs": [],
   "source": [
    "plot()"
   ]
  },
  {
   "cell_type": "markdown",
   "metadata": {},
   "source": [
    "## Extend layout"
   ]
  },
  {
   "cell_type": "code",
   "execution_count": null,
   "metadata": {},
   "outputs": [],
   "source": [
    "layout = Layout(xaxis_title = \"X-axis title\")\n",
    "\n",
    "layout.fields"
   ]
  },
  {
   "cell_type": "code",
   "execution_count": null,
   "metadata": {},
   "outputs": [],
   "source": [
    "new_layout = extend_layout(layout; yaxis_title = \"Y-axis title\")\n",
    "\n",
    "new_layout.fields"
   ]
  },
  {
   "cell_type": "markdown",
   "metadata": {},
   "source": [
    "## Plot vectors as lines"
   ]
  },
  {
   "cell_type": "code",
   "execution_count": null,
   "metadata": {},
   "outputs": [],
   "source": [
    "y_1 = [1, 2, 3]\n",
    "\n",
    "y_2 = [4, 5, 6]\n",
    "\n",
    "y_ = (y_1, y_2)\n",
    "\n",
    "layout = Layout(title = \"Title\", xaxis_title = \"X-axis title\", yaxis_title = \"Y-axis title\")\n",
    "\n",
    "plot_x_y(y_; layout = layout)"
   ]
  },
  {
   "cell_type": "code",
   "execution_count": null,
   "metadata": {},
   "outputs": [],
   "source": [
    "x_1 = [1, 2, 3]\n",
    "\n",
    "y_1 = [1, 2, 3]\n",
    "\n",
    "x_2 = [4, 5, 6]\n",
    "\n",
    "y_2 = [4, 5, 6]\n",
    "\n",
    "x_ = (x_1, x_2)\n",
    "\n",
    "y_ = (y_1, y_2)\n",
    "\n",
    "plot_x_y(\n",
    "    x_,\n",
    "    y_;\n",
    "    title = \"Title\",\n",
    "    xaxis_title = \"X-axis title\",\n",
    "    yaxis_title = \"Y-axis title\",\n",
    ")"
   ]
  },
  {
   "cell_type": "markdown",
   "metadata": {},
   "source": [
    "## Plot a matrix as heat map"
   ]
  },
  {
   "cell_type": "code",
   "execution_count": null,
   "metadata": {},
   "outputs": [],
   "source": [
    "matrix = collect(reshape(1:8, (2, 4)))"
   ]
  },
  {
   "cell_type": "code",
   "execution_count": null,
   "metadata": {},
   "outputs": [],
   "source": [
    "trace = heatmap(z = rotr90(matrix), colorscale = \"Picnic\")\n",
    "\n",
    "data = [trace]\n",
    "\n",
    "plot(data)"
   ]
  },
  {
   "cell_type": "markdown",
   "metadata": {},
   "source": [
    "## Plot a matrix as bubble map"
   ]
  },
  {
   "cell_type": "markdown",
   "metadata": {},
   "source": [
    "## Plot numbers as histogram"
   ]
  },
  {
   "cell_type": "markdown",
   "metadata": {},
   "source": [
    "## Plot labels as pie"
   ]
  },
  {
   "cell_type": "markdown",
   "metadata": {},
   "source": [
    "## Plot labels as bar"
   ]
  },
  {
   "cell_type": "markdown",
   "metadata": {},
   "source": [
    "## Plot points in 2D"
   ]
  },
  {
   "cell_type": "markdown",
   "metadata": {},
   "source": [
    "## Plot points in 3D"
   ]
  }
 ],
 "metadata": {
  "kernelspec": {
   "display_name": "Julia 1.5.3",
   "language": "julia",
   "name": "julia-1.5"
  },
  "language_info": {
   "file_extension": ".jl",
   "mimetype": "application/julia",
   "name": "julia",
   "version": "1.5.3"
  }
 },
 "nbformat": 4,
 "nbformat_minor": 4
}
